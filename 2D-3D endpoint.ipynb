{
 "cells": [
  {
   "cell_type": "markdown",
   "id": "c6709f89-2796-4314-99bb-e0567ffbc31c",
   "metadata": {},
   "source": [
    "# HUMAN"
   ]
  },
  {
   "cell_type": "markdown",
   "id": "709e2503-6018-44aa-8eeb-ea8ea77b541d",
   "metadata": {
    "jp-MarkdownHeadingCollapsed": true
   },
   "source": [
    "## CMD"
   ]
  },
  {
   "cell_type": "code",
   "execution_count": 1,
   "id": "200f3afa-2cea-4396-bae7-eee384e4c7f2",
   "metadata": {
    "execution": {
     "iopub.execute_input": "2024-08-23T09:36:33.830277Z",
     "iopub.status.busy": "2024-08-23T09:36:33.828970Z",
     "iopub.status.idle": "2024-08-23T09:36:36.642797Z",
     "shell.execute_reply": "2024-08-23T09:36:36.641472Z",
     "shell.execute_reply.started": "2024-08-23T09:36:33.830226Z"
    }
   },
   "outputs": [
    {
     "name": "stdout",
     "output_type": "stream",
     "text": [
      "Cloning into 'pifuhd'...\n",
      "remote: Enumerating objects: 236, done.\u001b[K\n",
      "remote: Counting objects: 100% (139/139), done.\u001b[K\n",
      "remote: Compressing objects: 100% (53/53), done.\u001b[K\n",
      "remote: Total 236 (delta 98), reused 92 (delta 85), pack-reused 97 (from 1)\u001b[K\n",
      "Receiving objects: 100% (236/236), 515.59 KiB | 712.00 KiB/s, done.\n",
      "Resolving deltas: 100% (120/120), done.\n"
     ]
    }
   ],
   "source": [
    "!git clone https://github.com/DevTimlas/pifuhd.git"
   ]
  },
  {
   "cell_type": "code",
   "execution_count": 4,
   "id": "d0ef5352-56e8-43f7-bf8a-6af710eaec92",
   "metadata": {
    "execution": {
     "iopub.execute_input": "2024-08-23T09:40:42.669803Z",
     "iopub.status.busy": "2024-08-23T09:40:42.668341Z",
     "iopub.status.idle": "2024-08-23T09:41:12.739472Z",
     "shell.execute_reply": "2024-08-23T09:41:12.737956Z",
     "shell.execute_reply.started": "2024-08-23T09:40:42.669738Z"
    },
    "scrolled": true
   },
   "outputs": [
    {
     "name": "stdout",
     "output_type": "stream",
     "text": [
      "Cloning into 'lightweight-human-pose-estimation.pytorch'...\n",
      "remote: Enumerating objects: 124, done.\u001b[K\n",
      "remote: Counting objects: 100% (34/34), done.\u001b[K\n",
      "remote: Compressing objects: 100% (16/16), done.\u001b[K\n",
      "remote: Total 124 (delta 21), reused 19 (delta 18), pack-reused 90 (from 1)\u001b[K\n",
      "Receiving objects: 100% (124/124), 230.77 KiB | 340.00 KiB/s, done.\n",
      "Resolving deltas: 100% (53/53), done.\n",
      "/Users/mac/fivv/2D-3D/latest/lightweight-human-pose-estimation.pytorch\n",
      "--2024-08-23 10:40:45--  https://download.01.org/opencv/openvino_training_extensions/models/human_pose_estimation/checkpoint_iter_370000.pth\n",
      "Resolving download.01.org (download.01.org)... "
     ]
    },
    {
     "name": "stderr",
     "output_type": "stream",
     "text": [
      "/opt/anaconda3/envs/torch/lib/python3.10/site-packages/IPython/core/magics/osm.py:417: UserWarning: using dhist requires you to install the `pickleshare` library.\n",
      "  self.shell.db['dhist'] = compress_dhist(dhist)[-100:]\n"
     ]
    },
    {
     "name": "stdout",
     "output_type": "stream",
     "text": [
      "23.63.89.29\n",
      "Connecting to download.01.org (download.01.org)|23.63.89.29|:443... connected.\n",
      "HTTP request sent, awaiting response... 200 OK\n",
      "Length: 87959810 (84M) [application/octet-stream]\n",
      "Saving to: ‘checkpoint_iter_370000.pth’\n",
      "\n",
      "checkpoint_iter_370 100%[===================>]  83.88M  2.74MB/s    in 26s     \n",
      "\n",
      "2024-08-23 10:41:12 (3.18 MB/s) - ‘checkpoint_iter_370000.pth’ saved [87959810/87959810]\n",
      "\n"
     ]
    }
   ],
   "source": [
    "import os\n",
    "if not os.path.exists('lightweight-human-pose-estimation.pytorch/checkpoint_iter_370000.pth'):\n",
    "    !git clone https://github.com/Daniil-Osokin/lightweight-human-pose-estimation.pytorch.git\n",
    "    %cd lightweight-human-pose-estimation.pytorch/\n",
    "    !wget https://download.01.org/opencv/openvino_training_extensions/models/human_pose_estimation/checkpoint_iter_370000.pth"
   ]
  },
  {
   "cell_type": "code",
   "execution_count": 12,
   "id": "98c17441-7000-4423-a9a1-a970181d8792",
   "metadata": {
    "execution": {
     "iopub.execute_input": "2024-08-23T09:43:26.207714Z",
     "iopub.status.busy": "2024-08-23T09:43:26.206273Z",
     "iopub.status.idle": "2024-08-23T09:43:26.334192Z",
     "shell.execute_reply": "2024-08-23T09:43:26.332531Z",
     "shell.execute_reply.started": "2024-08-23T09:43:26.207648Z"
    }
   },
   "outputs": [
    {
     "name": "stdout",
     "output_type": "stream",
     "text": [
      "/Users/mac/fivv/2D-3D/latest/lightweight-human-pose-estimation.pytorch\n"
     ]
    }
   ],
   "source": [
    "!pwd"
   ]
  },
  {
   "cell_type": "code",
   "execution_count": 13,
   "id": "e20c360a-9ac8-4de7-b4d6-c117949a1e9a",
   "metadata": {
    "execution": {
     "iopub.execute_input": "2024-08-23T09:43:42.861277Z",
     "iopub.status.busy": "2024-08-23T09:43:42.859800Z",
     "iopub.status.idle": "2024-08-23T09:43:42.871797Z",
     "shell.execute_reply": "2024-08-23T09:43:42.870782Z",
     "shell.execute_reply.started": "2024-08-23T09:43:42.861204Z"
    }
   },
   "outputs": [
    {
     "name": "stdout",
     "output_type": "stream",
     "text": [
      "/Users/mac/fivv/2D-3D/latest\n"
     ]
    }
   ],
   "source": [
    "%cd .."
   ]
  },
  {
   "cell_type": "code",
   "execution_count": 14,
   "id": "e9d09850-dc4c-40e7-a5ca-3e2fe893d30b",
   "metadata": {
    "execution": {
     "iopub.execute_input": "2024-08-23T09:43:45.180080Z",
     "iopub.status.busy": "2024-08-23T09:43:45.179574Z",
     "iopub.status.idle": "2024-08-23T09:51:55.606662Z",
     "shell.execute_reply": "2024-08-23T09:51:55.603846Z",
     "shell.execute_reply.started": "2024-08-23T09:43:45.180028Z"
    }
   },
   "outputs": [
    {
     "name": "stdout",
     "output_type": "stream",
     "text": [
      "/Users/mac/fivv/2D-3D/latest/pifuhd\n",
      "+ mkdir -p checkpoints\n",
      "+ cd checkpoints\n",
      "+ wget https://dl.fbaipublicfiles.com/pifuhd/checkpoints/pifuhd.pt pifuhd.pt\n",
      "--2024-08-23 10:43:45--  https://dl.fbaipublicfiles.com/pifuhd/checkpoints/pifuhd.pt\n",
      "Resolving dl.fbaipublicfiles.com (dl.fbaipublicfiles.com)... 108.157.78.80, 108.157.78.39, 108.157.78.29, ...\n",
      "Connecting to dl.fbaipublicfiles.com (dl.fbaipublicfiles.com)|108.157.78.80|:443... connected.\n",
      "HTTP request sent, awaiting response... 200 OK\n",
      "Length: 1548375177 (1.4G) [application/octet-stream]\n",
      "Saving to: ‘pifuhd.pt’\n",
      "\n",
      "pifuhd.pt           100%[===================>]   1.44G  1.99MB/s    in 8m 8s   \n",
      "\n",
      "2024-08-23 10:51:55 (3.02 MB/s) - ‘pifuhd.pt’ saved [1548375177/1548375177]\n",
      "\n",
      "--2024-08-23 10:51:55--  http://pifuhd.pt/\n",
      "Resolving pifuhd.pt (pifuhd.pt)... failed: nodename nor servname provided, or not known.\n",
      "wget: unable to resolve host address ‘pifuhd.pt’\n",
      "FINISHED --2024-08-23 10:51:55--\n",
      "Total wall clock time: 8m 10s\n",
      "Downloaded: 1 files, 1.4G in 8m 8s (3.02 MB/s)\n"
     ]
    }
   ],
   "source": [
    "#@title # Download the Pretrained Model\n",
    "if not os.path.exists(\"pifuhd/checkpoints/pifuhd.pt\"):\n",
    "    %cd pifuhd\n",
    "    !bash ./scripts/download_trained_model.sh\n",
    "else:\n",
    "    print(\"Model already exists\")"
   ]
  },
  {
   "cell_type": "code",
   "execution_count": 17,
   "id": "b6ef4f8f-b8a1-48ff-a14b-a114fc638863",
   "metadata": {
    "execution": {
     "iopub.execute_input": "2024-08-23T09:58:56.326297Z",
     "iopub.status.busy": "2024-08-23T09:58:56.325662Z",
     "iopub.status.idle": "2024-08-23T09:58:56.472749Z",
     "shell.execute_reply": "2024-08-23T09:58:56.471313Z",
     "shell.execute_reply.started": "2024-08-23T09:58:56.326266Z"
    }
   },
   "outputs": [
    {
     "name": "stdout",
     "output_type": "stream",
     "text": [
      "/Users/mac/fivv/2D-3D/latest/pifuhd\n"
     ]
    }
   ],
   "source": [
    "!pwd"
   ]
  },
  {
   "cell_type": "code",
   "execution_count": 18,
   "id": "35c429dd-e297-4a87-a79d-7e0f18b1f615",
   "metadata": {
    "execution": {
     "iopub.execute_input": "2024-08-23T09:59:36.570124Z",
     "iopub.status.busy": "2024-08-23T09:59:36.568610Z",
     "iopub.status.idle": "2024-08-23T09:59:36.579941Z",
     "shell.execute_reply": "2024-08-23T09:59:36.579196Z",
     "shell.execute_reply.started": "2024-08-23T09:59:36.570043Z"
    }
   },
   "outputs": [
    {
     "name": "stdout",
     "output_type": "stream",
     "text": [
      "/Users/mac/fivv/2D-3D/latest\n"
     ]
    },
    {
     "name": "stderr",
     "output_type": "stream",
     "text": [
      "/opt/anaconda3/envs/torch/lib/python3.10/site-packages/IPython/core/magics/osm.py:417: UserWarning: using dhist requires you to install the `pickleshare` library.\n",
      "  self.shell.db['dhist'] = compress_dhist(dhist)[-100:]\n"
     ]
    }
   ],
   "source": [
    "%cd .."
   ]
  },
  {
   "cell_type": "code",
   "execution_count": 28,
   "id": "1fa82f9e-8d24-49f3-8bed-d99fedd591df",
   "metadata": {
    "execution": {
     "iopub.execute_input": "2024-08-23T10:05:58.467784Z",
     "iopub.status.busy": "2024-08-23T10:05:58.467570Z",
     "iopub.status.idle": "2024-08-23T10:05:58.470868Z",
     "shell.execute_reply": "2024-08-23T10:05:58.470403Z",
     "shell.execute_reply.started": "2024-08-23T10:05:58.467767Z"
    }
   },
   "outputs": [],
   "source": [
    "import os\n",
    "\n",
    "os.makedirs('/Users/mac/fivv/2D-3D/latest/sample_images/', exist_ok=True)"
   ]
  },
  {
   "cell_type": "code",
   "execution_count": 29,
   "id": "366fe712-f15f-4afd-994b-5f40705289fa",
   "metadata": {
    "execution": {
     "iopub.execute_input": "2024-08-23T10:06:23.055182Z",
     "iopub.status.busy": "2024-08-23T10:06:23.053322Z",
     "iopub.status.idle": "2024-08-23T10:06:23.062751Z",
     "shell.execute_reply": "2024-08-23T10:06:23.061428Z",
     "shell.execute_reply.started": "2024-08-23T10:06:23.055088Z"
    }
   },
   "outputs": [],
   "source": [
    "image_path = '/Users/mac/fivv/2D-3D/latest/sample_images/e37e33c07644a547690fd225133201aa.jpg'"
   ]
  },
  {
   "cell_type": "code",
   "execution_count": 30,
   "id": "afac630f-cc8e-456c-afc9-bf8869a50334",
   "metadata": {
    "execution": {
     "iopub.execute_input": "2024-08-23T10:06:24.943131Z",
     "iopub.status.busy": "2024-08-23T10:06:24.942990Z",
     "iopub.status.idle": "2024-08-23T10:06:25.385798Z",
     "shell.execute_reply": "2024-08-23T10:06:25.385512Z",
     "shell.execute_reply.started": "2024-08-23T10:06:24.943122Z"
    },
    "scrolled": true
   },
   "outputs": [
    {
     "name": "stderr",
     "output_type": "stream",
     "text": [
      "/opt/anaconda3/envs/torch/lib/python3.10/site-packages/IPython/core/magics/osm.py:417: UserWarning: using dhist requires you to install the `pickleshare` library.\n",
      "  self.shell.db['dhist'] = compress_dhist(dhist)[-100:]\n"
     ]
    },
    {
     "name": "stdout",
     "output_type": "stream",
     "text": [
      "/Users/mac/fivv/2D-3D/latest/lightweight-human-pose-estimation.pytorch\n"
     ]
    }
   ],
   "source": [
    "%cd /Users/mac/fivv/2D-3D/latest/lightweight-human-pose-estimation.pytorch\n",
    "import torch\n",
    "import cv2\n",
    "import numpy as np\n",
    "from models.with_mobilenet import PoseEstimationWithMobileNet\n",
    "from modules.keypoints import extract_keypoints, group_keypoints\n",
    "from modules.load_state import load_state\n",
    "from modules.pose import Pose, track_poses\n",
    "import demo\n",
    "\n",
    "def get_rect(net, images, height_size):\n",
    "    net = net.eval()\n",
    "\n",
    "    stride = 8\n",
    "    upsample_ratio = 4\n",
    "    num_keypoints = Pose.num_kpts\n",
    "    previous_poses = []\n",
    "    delay = 33\n",
    "    for image in images:\n",
    "        rect_path = image.replace('.%s' % (image.split('.')[-1]), '_rect.txt')\n",
    "        img = cv2.imread(image, cv2.IMREAD_COLOR)\n",
    "        orig_img = img.copy()\n",
    "        orig_img = img.copy()\n",
    "        heatmaps, pafs, scale, pad = demo.infer_fast(net, img, height_size, stride, upsample_ratio, cpu=True)\n",
    "\n",
    "        total_keypoints_num = 0\n",
    "        all_keypoints_by_type = []\n",
    "        for kpt_idx in range(num_keypoints):  # 19th for bg\n",
    "            total_keypoints_num += extract_keypoints(heatmaps[:, :, kpt_idx], all_keypoints_by_type, total_keypoints_num)\n",
    "\n",
    "        pose_entries, all_keypoints = group_keypoints(all_keypoints_by_type, pafs)\n",
    "        for kpt_id in range(all_keypoints.shape[0]):\n",
    "            all_keypoints[kpt_id, 0] = (all_keypoints[kpt_id, 0] * stride / upsample_ratio - pad[1]) / scale\n",
    "            all_keypoints[kpt_id, 1] = (all_keypoints[kpt_id, 1] * stride / upsample_ratio - pad[0]) / scale\n",
    "        current_poses = []\n",
    "\n",
    "        rects = []\n",
    "        for n in range(len(pose_entries)):\n",
    "            if len(pose_entries[n]) == 0:\n",
    "                continue\n",
    "            pose_keypoints = np.ones((num_keypoints, 2), dtype=np.int32) * -1\n",
    "            valid_keypoints = []\n",
    "            for kpt_id in range(num_keypoints):\n",
    "                if pose_entries[n][kpt_id] != -1.0:  # keypoint was found\n",
    "                    pose_keypoints[kpt_id, 0] = int(all_keypoints[int(pose_entries[n][kpt_id]), 0])\n",
    "                    pose_keypoints[kpt_id, 1] = int(all_keypoints[int(pose_entries[n][kpt_id]), 1])\n",
    "                    valid_keypoints.append([pose_keypoints[kpt_id, 0], pose_keypoints[kpt_id, 1]])\n",
    "            valid_keypoints = np.array(valid_keypoints)\n",
    "\n",
    "            if pose_entries[n][10] != -1.0 or pose_entries[n][13] != -1.0:\n",
    "              pmin = valid_keypoints.min(0)\n",
    "              pmax = valid_keypoints.max(0)\n",
    "\n",
    "              center = (0.5 * (pmax[:2] + pmin[:2])).astype(np.int32)\n",
    "              radius = int(0.65 * max(pmax[0]-pmin[0], pmax[1]-pmin[1]))\n",
    "            elif pose_entries[n][10] == -1.0 and pose_entries[n][13] == -1.0 and pose_entries[n][8] != -1.0 and pose_entries[n][11] != -1.0:\n",
    "              # if leg is missing, use pelvis to get cropping\n",
    "              center = (0.5 * (pose_keypoints[8] + pose_keypoints[11])).astype(np.int32)\n",
    "              radius = int(1.45*np.sqrt(((center[None,:] - valid_keypoints)**2).sum(1)).max(0))\n",
    "              center[1] += int(0.05*radius)\n",
    "            else:\n",
    "              center = np.array([img.shape[1]//2,img.shape[0]//2])\n",
    "              radius = max(img.shape[1]//2,img.shape[0]//2)\n",
    "\n",
    "            x1 = center[0] - radius\n",
    "            y1 = center[1] - radius\n",
    "\n",
    "            rects.append([x1, y1, 2*radius, 2*radius])\n",
    "\n",
    "        np.savetxt(rect_path, np.array(rects), fmt='%d')\n",
    "\n",
    "\n",
    "net = PoseEstimationWithMobileNet()\n",
    "checkpoint = torch.load('checkpoint_iter_370000.pth', map_location='cpu')\n",
    "load_state(net, checkpoint)\n",
    "\n",
    "get_rect(net, [image_path], 512)"
   ]
  },
  {
   "cell_type": "code",
   "execution_count": 31,
   "id": "a9702c39-bad6-4139-a962-d48c32540296",
   "metadata": {
    "execution": {
     "iopub.execute_input": "2024-08-23T10:06:34.730268Z",
     "iopub.status.busy": "2024-08-23T10:06:34.729801Z",
     "iopub.status.idle": "2024-08-23T10:06:34.734903Z",
     "shell.execute_reply": "2024-08-23T10:06:34.734190Z",
     "shell.execute_reply.started": "2024-08-23T10:06:34.730242Z"
    }
   },
   "outputs": [
    {
     "data": {
      "text/plain": [
       "'/Users/mac/fivv/2D-3D/latest/sample_images'"
      ]
     },
     "execution_count": 31,
     "metadata": {},
     "output_type": "execute_result"
    }
   ],
   "source": [
    "image_dir = os.path.dirname(image_path)\n",
    "image_dir"
   ]
  },
  {
   "cell_type": "code",
   "execution_count": 33,
   "id": "0fa98a60-f54b-48e4-813b-13f951acd9ba",
   "metadata": {
    "execution": {
     "iopub.execute_input": "2024-08-23T10:07:17.508221Z",
     "iopub.status.busy": "2024-08-23T10:07:17.507812Z",
     "iopub.status.idle": "2024-08-23T10:08:06.094002Z",
     "shell.execute_reply": "2024-08-23T10:08:06.091487Z",
     "shell.execute_reply.started": "2024-08-23T10:07:17.508197Z"
    },
    "scrolled": true
   },
   "outputs": [
    {
     "name": "stdout",
     "output_type": "stream",
     "text": [
      "/Users/mac/fivv/2D-3D/latest/pifuhd\n",
      "Resuming from  ./checkpoints/pifuhd.pt\n",
      "Warning: opt is overwritten.\n",
      "test data size:  1\n",
      "initialize network with normal\n",
      "initialize network with normal\n",
      "generate mesh (test) ...\n",
      "  0%|                                                     | 0/1 [00:00<?, ?it/s]./results/pifuhd_final/recon/result_e37e33c07644a547690fd225133201aa_256.obj\n",
      "100%|█████████████████████████████████████████████| 1/1 [00:37<00:00, 37.99s/it]\n"
     ]
    }
   ],
   "source": [
    "%cd /Users/mac/fivv/2D-3D/latest/pifuhd/\n",
    "!python -m apps.simple_test -r 256 --use_rect -i {image_dir}"
   ]
  },
  {
   "cell_type": "code",
   "execution_count": null,
   "id": "3c4b0a7a-19f2-4ae0-b71a-66d47563d222",
   "metadata": {},
   "outputs": [],
   "source": []
  },
  {
   "cell_type": "markdown",
   "id": "b48f3f9e-7313-4c70-a4ad-c89cd37c2768",
   "metadata": {
    "jp-MarkdownHeadingCollapsed": true
   },
   "source": [
    "## API"
   ]
  },
  {
   "cell_type": "code",
   "execution_count": 1,
   "id": "d9df518b-e75a-4a44-bbba-210600bbe4d4",
   "metadata": {
    "execution": {
     "iopub.execute_input": "2024-08-23T10:50:06.686420Z",
     "iopub.status.busy": "2024-08-23T10:50:06.686009Z",
     "iopub.status.idle": "2024-08-23T10:50:45.295015Z",
     "shell.execute_reply": "2024-08-23T10:50:45.293421Z",
     "shell.execute_reply.started": "2024-08-23T10:50:06.686395Z"
    }
   },
   "outputs": [
    {
     "name": "stdout",
     "output_type": "stream",
     "text": [
      "OBJ file saved as out2.obj.\n"
     ]
    }
   ],
   "source": [
    "import requests\n",
    "\n",
    "# Specify the image file and the API endpoint\n",
    "file_path = \"/Users/mac/fivv/2D-3D/latest/sample_images/e37e33c07644a547690fd225133201aa.jpg\"\n",
    "url = \"http://127.0.0.1:6000/generate-mesh\"\n",
    "\n",
    "# Open the file in binary mode\n",
    "with open(file_path, \"rb\") as file:\n",
    "    # Send the POST request with the file\n",
    "    response = requests.post(url, files={\"file\": file})\n",
    "\n",
    "# Save the response content as an .obj file\n",
    "if response.status_code == 200:\n",
    "    out = \"out2.obj\"\n",
    "    with open(out, \"wb\") as f:\n",
    "        f.write(response.content)\n",
    "    print(f\"OBJ file saved as {out}.\")\n",
    "else:\n",
    "    print(\"Error:\", response.status_code)\n"
   ]
  },
  {
   "cell_type": "code",
   "execution_count": null,
   "id": "8f9cee36-f1e4-47b9-9b73-e3016d787e3f",
   "metadata": {},
   "outputs": [],
   "source": []
  },
  {
   "cell_type": "markdown",
   "id": "6b047660-ff95-4bcc-82cb-8c1e81713d62",
   "metadata": {},
   "source": [
    "# GARMENT"
   ]
  },
  {
   "cell_type": "code",
   "execution_count": 5,
   "id": "9956fc0a-7132-4525-9a66-4244803db8e7",
   "metadata": {
    "execution": {
     "iopub.execute_input": "2024-08-23T11:49:34.149616Z",
     "iopub.status.busy": "2024-08-23T11:49:34.148067Z",
     "iopub.status.idle": "2024-08-23T11:49:42.834273Z",
     "shell.execute_reply": "2024-08-23T11:49:42.833416Z",
     "shell.execute_reply.started": "2024-08-23T11:49:34.149548Z"
    },
    "scrolled": true
   },
   "outputs": [
    {
     "name": "stdout",
     "output_type": "stream",
     "text": [
      "\u001b[33mDEPRECATION: omegaconf 2.0.6 has a non-standard dependency specifier PyYAML>=5.1.*. pip 24.0 will enforce this behaviour change. A possible replacement is to upgrade to a newer version of omegaconf or contact the author to suggest that they release a version with a conforming dependency specifiers. Discussion can be found at https://github.com/pypa/pip/issues/12063\u001b[0m\u001b[33m\n",
      "\u001b[0m\u001b[33mDEPRECATION: omegaconf 2.0.6 has a non-standard dependency specifier PyYAML>=5.1.*. pip 24.0 will enforce this behaviour change. A possible replacement is to upgrade to a newer version of omegaconf or contact the author to suggest that they release a version with a conforming dependency specifiers. Discussion can be found at https://github.com/pypa/pip/issues/12063\u001b[0m\u001b[33m\n",
      "\u001b[0m\u001b[33mDEPRECATION: omegaconf 2.0.6 has a non-standard dependency specifier PyYAML>=5.1.*. pip 24.0 will enforce this behaviour change. A possible replacement is to upgrade to a newer version of omegaconf or contact the author to suggest that they release a version with a conforming dependency specifiers. Discussion can be found at https://github.com/pypa/pip/issues/12063\u001b[0m\u001b[33m\n",
      "\u001b[0m\u001b[33mDEPRECATION: omegaconf 2.0.6 has a non-standard dependency specifier PyYAML>=5.1.*. pip 24.0 will enforce this behaviour change. A possible replacement is to upgrade to a newer version of omegaconf or contact the author to suggest that they release a version with a conforming dependency specifiers. Discussion can be found at https://github.com/pypa/pip/issues/12063\u001b[0m\u001b[33m\n",
      "\u001b[0m"
     ]
    }
   ],
   "source": [
    "!pip -q install trimesh\n",
    "!pip -q install ninja\n",
    "!pip -q install rembg\n",
    "!pip install -q open3d"
   ]
  },
  {
   "cell_type": "code",
   "execution_count": 28,
   "id": "14d3be22-8dc3-47c7-9122-93e527aef658",
   "metadata": {
    "execution": {
     "iopub.execute_input": "2024-08-23T12:18:56.402119Z",
     "iopub.status.busy": "2024-08-23T12:18:56.398892Z",
     "iopub.status.idle": "2024-08-23T12:19:14.417145Z",
     "shell.execute_reply": "2024-08-23T12:19:14.416061Z",
     "shell.execute_reply.started": "2024-08-23T12:18:56.402040Z"
    },
    "scrolled": true
   },
   "outputs": [
    {
     "name": "stdout",
     "output_type": "stream",
     "text": [
      "Requirement already satisfied: numba in /opt/anaconda3/envs/torch/lib/python3.10/site-packages (0.59.0rc1)\n",
      "Collecting numba\n",
      "  Downloading numba-0.60.0-cp310-cp310-macosx_11_0_arm64.whl.metadata (2.7 kB)\n",
      "Collecting llvmlite<0.44,>=0.43.0dev0 (from numba)\n",
      "  Downloading llvmlite-0.43.0-cp310-cp310-macosx_11_0_arm64.whl.metadata (4.8 kB)\n",
      "Requirement already satisfied: numpy<2.1,>=1.22 in /opt/anaconda3/envs/torch/lib/python3.10/site-packages (from numba) (1.26.4)\n",
      "Downloading numba-0.60.0-cp310-cp310-macosx_11_0_arm64.whl (2.7 MB)\n",
      "\u001b[2K   \u001b[90m━━━━━━━━━━━━━━━━━━━━━━━━━━━━━━━━━━━━━━━━\u001b[0m \u001b[32m2.7/2.7 MB\u001b[0m \u001b[31m2.0 MB/s\u001b[0m eta \u001b[36m0:00:00\u001b[0ma \u001b[36m0:00:01\u001b[0m0m\n",
      "\u001b[?25hDownloading llvmlite-0.43.0-cp310-cp310-macosx_11_0_arm64.whl (28.8 MB)\n",
      "\u001b[2K   \u001b[90m━━━━━━━━━━━━━━━━━━━━━━━━━━━━━━━━━━━━━━━━\u001b[0m \u001b[32m28.8/28.8 MB\u001b[0m \u001b[31m4.1 MB/s\u001b[0m eta \u001b[36m0:00:00\u001b[0m00:01\u001b[0m00:01\u001b[0m\n",
      "\u001b[?25h\u001b[33mDEPRECATION: omegaconf 2.0.6 has a non-standard dependency specifier PyYAML>=5.1.*. pip 24.0 will enforce this behaviour change. A possible replacement is to upgrade to a newer version of omegaconf or contact the author to suggest that they release a version with a conforming dependency specifiers. Discussion can be found at https://github.com/pypa/pip/issues/12063\u001b[0m\u001b[33m\n",
      "\u001b[0mInstalling collected packages: llvmlite, numba\n",
      "  Attempting uninstall: llvmlite\n",
      "    Found existing installation: llvmlite 0.42.0\n",
      "    Uninstalling llvmlite-0.42.0:\n",
      "      Successfully uninstalled llvmlite-0.42.0\n",
      "  Attempting uninstall: numba\n",
      "    Found existing installation: numba 0.59.0rc1\n",
      "    Uninstalling numba-0.59.0rc1:\n",
      "      Successfully uninstalled numba-0.59.0rc1\n",
      "\u001b[31mERROR: pip's dependency resolver does not currently take into account all the packages that are installed. This behaviour is the source of the following dependency conflicts.\n",
      "rvc 0.3.5 requires numba==0.59.0rc1, but you have numba 0.60.0 which is incompatible.\n",
      "rvc 0.3.5 requires python-multipart<0.0.7,>=0.0.6, but you have python-multipart 0.0.9 which is incompatible.\n",
      "so-vits-svc-fork 4.2.4 requires setuptools<70.0.0,>=69.5.1, but you have setuptools 70.0.0 which is incompatible.\u001b[0m\u001b[31m\n",
      "\u001b[0mSuccessfully installed llvmlite-0.43.0 numba-0.60.0\n"
     ]
    }
   ],
   "source": [
    "!pip install -U numba"
   ]
  },
  {
   "cell_type": "code",
   "execution_count": 15,
   "id": "0c0789dd-1445-4a75-9bd9-e5af794aac95",
   "metadata": {
    "execution": {
     "iopub.execute_input": "2024-08-23T11:54:49.302959Z",
     "iopub.status.busy": "2024-08-23T11:54:49.300898Z",
     "iopub.status.idle": "2024-08-23T11:54:53.643725Z",
     "shell.execute_reply": "2024-08-23T11:54:53.642714Z",
     "shell.execute_reply.started": "2024-08-23T11:54:49.302876Z"
    },
    "scrolled": true
   },
   "outputs": [
    {
     "name": "stdout",
     "output_type": "stream",
     "text": [
      "Collecting gdown\n",
      "  Downloading gdown-5.2.0-py3-none-any.whl.metadata (5.8 kB)\n",
      "Requirement already satisfied: beautifulsoup4 in /opt/anaconda3/envs/torch/lib/python3.10/site-packages (from gdown) (4.12.3)\n",
      "Requirement already satisfied: filelock in /opt/anaconda3/envs/torch/lib/python3.10/site-packages (from gdown) (3.13.1)\n",
      "Requirement already satisfied: requests[socks] in /opt/anaconda3/envs/torch/lib/python3.10/site-packages (from gdown) (2.31.0)\n",
      "Requirement already satisfied: tqdm in /opt/anaconda3/envs/torch/lib/python3.10/site-packages (from gdown) (4.66.2)\n",
      "Requirement already satisfied: soupsieve>1.2 in /opt/anaconda3/envs/torch/lib/python3.10/site-packages (from beautifulsoup4->gdown) (2.5)\n",
      "Requirement already satisfied: charset-normalizer<4,>=2 in /opt/anaconda3/envs/torch/lib/python3.10/site-packages (from requests[socks]->gdown) (3.3.2)\n",
      "Requirement already satisfied: idna<4,>=2.5 in /opt/anaconda3/envs/torch/lib/python3.10/site-packages (from requests[socks]->gdown) (3.7)\n",
      "Requirement already satisfied: urllib3<3,>=1.21.1 in /opt/anaconda3/envs/torch/lib/python3.10/site-packages (from requests[socks]->gdown) (2.1.0)\n",
      "Requirement already satisfied: certifi>=2017.4.17 in /opt/anaconda3/envs/torch/lib/python3.10/site-packages (from requests[socks]->gdown) (2024.2.2)\n",
      "Requirement already satisfied: PySocks!=1.5.7,>=1.5.6 in /opt/anaconda3/envs/torch/lib/python3.10/site-packages (from requests[socks]->gdown) (1.7.1)\n",
      "Downloading gdown-5.2.0-py3-none-any.whl (18 kB)\n",
      "\u001b[33mDEPRECATION: omegaconf 2.0.6 has a non-standard dependency specifier PyYAML>=5.1.*. pip 24.0 will enforce this behaviour change. A possible replacement is to upgrade to a newer version of omegaconf or contact the author to suggest that they release a version with a conforming dependency specifiers. Discussion can be found at https://github.com/pypa/pip/issues/12063\u001b[0m\u001b[33m\n",
      "\u001b[0mInstalling collected packages: gdown\n",
      "Successfully installed gdown-5.2.0\n"
     ]
    }
   ],
   "source": [
    "!pip install --upgrade gdown"
   ]
  },
  {
   "cell_type": "code",
   "execution_count": 1,
   "id": "5c850708-a225-4144-baac-189e1d0e2709",
   "metadata": {
    "execution": {
     "iopub.execute_input": "2024-08-23T12:19:26.071356Z",
     "iopub.status.busy": "2024-08-23T12:19:26.071265Z",
     "iopub.status.idle": "2024-08-23T12:19:26.077143Z",
     "shell.execute_reply": "2024-08-23T12:19:26.076853Z",
     "shell.execute_reply.started": "2024-08-23T12:19:26.071347Z"
    },
    "scrolled": true
   },
   "outputs": [
    {
     "name": "stdout",
     "output_type": "stream",
     "text": [
      "/Users/mac/fivv/2D-3D/latest\n",
      "Anchor repo exists\n",
      "/Users/mac/fivv/2D-3D/latest\n"
     ]
    },
    {
     "name": "stderr",
     "output_type": "stream",
     "text": [
      "/opt/anaconda3/envs/torch/lib/python3.10/site-packages/IPython/core/magics/osm.py:417: UserWarning: using dhist requires you to install the `pickleshare` library.\n",
      "  self.shell.db['dhist'] = compress_dhist(dhist)[-100:]\n"
     ]
    }
   ],
   "source": [
    "import os\n",
    "%cd /Users/mac/fivv/2D-3D/latest\n",
    "if not os.path.exists('AnchorUDF'):\n",
    "    !git clone https://github.com/zhaofang0627/AnchorUDF.git\n",
    "    %cd AnchorUDF\n",
    "    !git clone https://github.com/ThibaultGROUEIX/ChamferDistancePytorch.git\n",
    "else:\n",
    "    print('Anchor repo exists')\n",
    "\n",
    "%cd /Users/mac/fivv/2D-3D/latest"
   ]
  },
  {
   "cell_type": "code",
   "execution_count": 2,
   "id": "03b93dd1-a852-478d-b369-40eadd4e4114",
   "metadata": {
    "execution": {
     "iopub.execute_input": "2024-08-23T12:19:30.748792Z",
     "iopub.status.busy": "2024-08-23T12:19:30.748201Z",
     "iopub.status.idle": "2024-08-23T12:19:30.897364Z",
     "shell.execute_reply": "2024-08-23T12:19:30.896138Z",
     "shell.execute_reply.started": "2024-08-23T12:19:30.748755Z"
    }
   },
   "outputs": [
    {
     "name": "stdout",
     "output_type": "stream",
     "text": [
      "/Users/mac/fivv/2D-3D/latest\n"
     ]
    }
   ],
   "source": [
    "!pwd"
   ]
  },
  {
   "cell_type": "code",
   "execution_count": 3,
   "id": "2b9fa51c-51b7-47f7-9708-44a05495d4aa",
   "metadata": {
    "execution": {
     "iopub.execute_input": "2024-08-23T12:19:34.411530Z",
     "iopub.status.busy": "2024-08-23T12:19:34.410373Z",
     "iopub.status.idle": "2024-08-23T12:19:34.552927Z",
     "shell.execute_reply": "2024-08-23T12:19:34.552448Z",
     "shell.execute_reply.started": "2024-08-23T12:19:34.411474Z"
    },
    "scrolled": true
   },
   "outputs": [
    {
     "name": "stdout",
     "output_type": "stream",
     "text": [
      "netG_epoch_59 present\n"
     ]
    }
   ],
   "source": [
    "import gdown\n",
    "\n",
    "# a file\n",
    "if not os.path.exists('netG_epoch_59'):\n",
    "    url = \"https://drive.google.com/uc?id=1lByZSWTUZ2T3sFSoMoUK8nu72kiV3C96\"\n",
    "    url2 = \"https://drive.google.com/uc?id=1z2Y1OnpaoN9jlSyA7XQEQ056mMHlaQPq\"\n",
    "    # output = \"netG_epoch_59\"\n",
    "    gdown.download(url)\n",
    "    gdown.download(url2)\n",
    "else:\n",
    "    print('netG_epoch_59 present')"
   ]
  },
  {
   "cell_type": "code",
   "execution_count": 4,
   "id": "a551749c-a9f5-438f-88c0-9674bc690aeb",
   "metadata": {
    "execution": {
     "iopub.execute_input": "2024-08-23T12:19:36.742308Z",
     "iopub.status.busy": "2024-08-23T12:19:36.741649Z",
     "iopub.status.idle": "2024-08-23T12:19:36.746283Z",
     "shell.execute_reply": "2024-08-23T12:19:36.745153Z",
     "shell.execute_reply.started": "2024-08-23T12:19:36.742281Z"
    }
   },
   "outputs": [],
   "source": [
    "filename = 'BALLY_MTR031_CO315_U901_01.webp'"
   ]
  },
  {
   "cell_type": "code",
   "execution_count": 13,
   "id": "2e23d545-01ff-455a-adb2-5f9930ae3777",
   "metadata": {
    "execution": {
     "iopub.execute_input": "2024-08-23T12:27:45.441871Z",
     "iopub.status.busy": "2024-08-23T12:27:45.440905Z",
     "iopub.status.idle": "2024-08-23T12:27:55.525633Z",
     "shell.execute_reply": "2024-08-23T12:27:55.524847Z",
     "shell.execute_reply.started": "2024-08-23T12:27:45.441799Z"
    },
    "scrolled": true
   },
   "outputs": [
    {
     "name": "stdout",
     "output_type": "stream",
     "text": [
      "/Users/mac/fivv/2D-3D/latest/sample_images/BALLY_MTR031_CO315_U901_01.webp\n",
      "input image size (2000, 2500)\n",
      "resized image size (1500, 1500)\n",
      "Output image saved to /Users/mac/fivv/2D-3D/latest/AnchorUDF/pics/my_test/RENDER/1/0_0_00.jpg\n"
     ]
    }
   ],
   "source": [
    "#@title RM IMG BG\n",
    "\n",
    "import os\n",
    "if os.path.exists(f'{os.getcwd()}/AnchorUDF/pics/my_test'):\n",
    "    os.remove(f'{os.getcwd()}/AnchorUDF/pics/my_test')\n",
    "\n",
    "os.makedirs(f\"{os.getcwd()}/AnchorUDF/pics/my_test/MASK/1\", exist_ok=True)\n",
    "os.makedirs(f\"{os.getcwd()}/AnchorUDF/pics/my_test/RENDER/1\", exist_ok=True)\n",
    "\n",
    "from rembg import remove\n",
    "from PIL import Image\n",
    "\n",
    "# Store path of the image in the variable input_path\n",
    "input_path = f'{os.getcwd()}/sample_images/{filename}'\n",
    "print(input_path)\n",
    "\n",
    "# Store path of the output image in the variable output_path\n",
    "output_path = f'{os.getcwd()}/AnchorUDF/pics/my_test/RENDER/1/0_0_00.jpg'\n",
    "\n",
    "# Processing the image\n",
    "input_image = Image.open(input_path)\n",
    "print('input image size', input_image.size)\n",
    "\n",
    "# Determine the new size based on the original image size\n",
    "\n",
    "if input_image.size[0] <= 600 or input_image.size[1] <= 600:\n",
    "    new_size = (500, 500)\n",
    "elif input_image.size[0] >= 900 or input_image.size[1] >= 900:\n",
    "    new_size = (1500, 1500)\n",
    "elif input_image.size[0] <= 900 or input_image.size[1] <= 900 and input_image.size[0] >= 700 or input_image.size[1] >= 700:\n",
    "    new_size = (1000, 1000)\n",
    "else:\n",
    "    new_size = input_image.size\n",
    "\n",
    "# Resize the image\n",
    "resized_image = input_image.resize(new_size, Image.LANCZOS)\n",
    "print('resized image size', resized_image.size)\n",
    "\n",
    "# Removing the background from the given Image\n",
    "output_image = remove(resized_image)\n",
    "\n",
    "# Convert the output image to RGB format\n",
    "rgb_output_image = output_image.convert('RGB')\n",
    "\n",
    "# Save the image in the given path\n",
    "rgb_output_image.save(output_path, quality=200, optimize=True)\n",
    "print(f'Output image saved to {output_path}')"
   ]
  },
  {
   "cell_type": "code",
   "execution_count": 14,
   "id": "7b716c44-3a26-4cbe-b1f7-24e0da7f4cc5",
   "metadata": {
    "execution": {
     "iopub.execute_input": "2024-08-23T12:29:00.212093Z",
     "iopub.status.busy": "2024-08-23T12:29:00.210960Z",
     "iopub.status.idle": "2024-08-23T12:29:01.201891Z",
     "shell.execute_reply": "2024-08-23T12:29:01.201296Z",
     "shell.execute_reply.started": "2024-08-23T12:29:00.212039Z"
    }
   },
   "outputs": [
    {
     "data": {
      "image/png": "[encoded data removed]",
      "text/plain": [
       "<Figure size 1200x600 with 2 Axes>"
      ]
     },
     "metadata": {},
     "output_type": "display_data"
    },
    {
     "name": "stdout",
     "output_type": "stream",
     "text": [
      "Image resized to (1500, 1500, 3)\n"
     ]
    }
   ],
   "source": [
    "#@title GET INPUT MASK\n",
    "import cv2\n",
    "import numpy as np\n",
    "from matplotlib import pyplot as plt\n",
    "\n",
    "# Load the image\n",
    "image_path = f\"{os.getcwd()}/AnchorUDF/pics/my_test/RENDER/1/0_0_00.jpg\"\n",
    "image = cv2.imread(image_path)\n",
    "\n",
    "# Convert to grayscale\n",
    "gray = cv2.cvtColor(image, cv2.COLOR_BGR2GRAY)\n",
    "\n",
    "# Apply a binary threshold to get a binary image\n",
    "_, binary = cv2.threshold(gray, 1, 255, cv2.THRESH_BINARY)\n",
    "\n",
    "# Find contours\n",
    "contours, _ = cv2.findContours(binary, cv2.RETR_EXTERNAL, cv2.CHAIN_APPROX_SIMPLE)\n",
    "\n",
    "# Create a mask with the same dimensions as the image\n",
    "mask = np.zeros_like(gray)\n",
    "\n",
    "# Fill the mask with the contours\n",
    "cv2.drawContours(mask, contours, -1, 255, thickness=cv2.FILLED)\n",
    "\n",
    "# Plot the original image and the mask\n",
    "plt.figure(figsize=(12, 6))\n",
    "\n",
    "plt.subplot(1, 2, 1)\n",
    "plt.title(\"Original Image\")\n",
    "plt.imshow(cv2.cvtColor(image, cv2.COLOR_BGR2RGB))\n",
    "plt.axis('off')\n",
    "\n",
    "plt.subplot(1, 2, 2)\n",
    "plt.title(\"Mask\")\n",
    "plt.imshow(mask, cmap='gray')\n",
    "plt.axis('off')\n",
    "\n",
    "plt.show()\n",
    "\n",
    "# Save the mask to a file\n",
    "mask_path = f\"{os.getcwd()}/AnchorUDF/pics/my_test/MASK/1/0_0_00.png\"\n",
    "cv2.imwrite(mask_path, mask)\n",
    "\n",
    "print(f\"Image resized to {image.shape}\")"
   ]
  },
  {
   "cell_type": "code",
   "execution_count": 16,
   "id": "f58d46ea-4e4e-4b81-b281-a82096a8a523",
   "metadata": {
    "execution": {
     "iopub.execute_input": "2024-08-23T12:30:29.514608Z",
     "iopub.status.busy": "2024-08-23T12:30:29.512310Z",
     "iopub.status.idle": "2024-08-23T12:30:29.527340Z",
     "shell.execute_reply": "2024-08-23T12:30:29.526344Z",
     "shell.execute_reply.started": "2024-08-23T12:30:29.514485Z"
    }
   },
   "outputs": [
    {
     "data": {
      "text/plain": [
       "'/Users/mac/fivv/2D-3D/latest'"
      ]
     },
     "execution_count": 16,
     "metadata": {},
     "output_type": "execute_result"
    }
   ],
   "source": [
    "pwd"
   ]
  },
  {
   "cell_type": "code",
   "execution_count": 28,
   "id": "3e49a860-fb9f-41a9-b1e3-0e32b94067a0",
   "metadata": {
    "execution": {
     "iopub.execute_input": "2024-08-23T13:16:47.885829Z",
     "iopub.status.busy": "2024-08-23T13:16:47.884135Z",
     "iopub.status.idle": "2024-08-23T13:18:35.695025Z",
     "shell.execute_reply": "2024-08-23T13:18:35.691783Z",
     "shell.execute_reply.started": "2024-08-23T13:16:47.885744Z"
    },
    "scrolled": true
   },
   "outputs": [
    {
     "name": "stdout",
     "output_type": "stream",
     "text": [
      "/Users/mac/fivv/2D-3D/latest/AnchorUDF\n",
      "cpu\n",
      "initialize network with normal\n",
      "Using Network:  AnchorUDFNet\n",
      "/Users/mac/fivv/2D-3D/latest/AnchorUDF/pics/my_test/RENDER/1/0_0_00.jpg /Users/mac/fivv/2D-3D/latest/AnchorUDF/pics/my_test/MASK/1/0_0_00.png\n",
      "iteration 0\n",
      "refinement 0\n",
      "tensor([[0.4962, 0.1015, 0.1897,  ..., 0.6960, 0.5805, 0.7860]],\n",
      "       grad_fn=<SqueezeBackward1>)\n",
      "refinement 1\n",
      "tensor([[0.4962, 0.1015, 0.1897,  ..., 0.6960, 0.5805, 0.7860]],\n",
      "       grad_fn=<SqueezeBackward1>)\n",
      "finished refinement\n",
      "(0, 3)\n",
      "iteration 1\n",
      "refinement 0\n",
      "tensor([[0.0065, 0.0044, 0.0128,  ..., 0.0050, 0.0045, 0.0141]],\n",
      "       grad_fn=<SqueezeBackward1>)\n",
      "refinement 1\n",
      "tensor([[0.0062, 0.0043, 0.0058,  ..., 0.0041, 0.0045, 0.0059]],\n",
      "       grad_fn=<SqueezeBackward1>)\n",
      "finished refinement\n",
      "(193974, 3)\n",
      "iteration 2\n",
      "refinement 0\n",
      "tensor([[0.0068, 0.0050, 0.0042,  ..., 0.0047, 0.0104, 0.0238]],\n",
      "       grad_fn=<SqueezeBackward1>)\n",
      "refinement 1\n",
      "tensor([[0.0052, 0.0043, 0.0042,  ..., 0.0047, 0.0060, 0.0030]],\n",
      "       grad_fn=<SqueezeBackward1>)\n",
      "finished refinement\n",
      "(391004, 3)\n",
      "iteration 3\n",
      "refinement 0\n",
      "tensor([[0.0044, 0.0044, 0.0047,  ..., 0.0046, 0.0141, 0.0148]],\n",
      "       grad_fn=<SqueezeBackward1>)\n",
      "refinement 1\n",
      "tensor([[0.0043, 0.0043, 0.0047,  ..., 0.0045, 0.0057, 0.0050]],\n",
      "       grad_fn=<SqueezeBackward1>)\n",
      "finished refinement\n",
      "(589076, 3)\n",
      "iteration 4\n",
      "refinement 0\n",
      "tensor([[0.0044, 0.0046, 0.0045,  ..., 0.0050, 0.0051, 0.0263]],\n",
      "       grad_fn=<SqueezeBackward1>)\n",
      "refinement 1\n",
      "tensor([[0.0043, 0.0046, 0.0045,  ..., 0.0046, 0.0049, 0.0033]],\n",
      "       grad_fn=<SqueezeBackward1>)\n",
      "finished refinement\n",
      "(787645, 3)\n",
      "iteration 5\n",
      "refinement 0\n",
      "tensor([[0.0055, 0.0040, 0.0112,  ..., 0.0051, 0.0144, 0.0053]],\n",
      "       grad_fn=<SqueezeBackward1>)\n",
      "refinement 1\n",
      "tensor([[0.0054, 0.0037, 0.0058,  ..., 0.0048, 0.0043, 0.0052]],\n",
      "       grad_fn=<SqueezeBackward1>)\n",
      "finished refinement\n",
      "(986476, 3)\n"
     ]
    }
   ],
   "source": [
    "#@title Garment inference\n",
    "\n",
    "path_of_output = \"out\"\n",
    "folder_of_output = \"out\"\n",
    "path_of_dataset = f'{os.getcwd()}/pics/my_test'\n",
    "folder_of_test_data = \"1\"\n",
    "ckpt = os.path.join('/Users/mac/fivv/2D-3D/latest', 'netG_epoch_59')\n",
    "\n",
    "%cd /Users/mac/fivv/2D-3D/latest/AnchorUDF\n",
    "!rm -rf /Users/mac/fivv/2D-3D/latest/AnchorUDF/out\n",
    "!python -m apps.eval --results_path {path_of_output} --name {folder_of_output}\\\n",
    "                     --dataroot {path_of_dataset} --test_folder_path {folder_of_test_data}\\\n",
    "                     --load_netG_checkpoint_path {ckpt} --anchor --num_steps 2\\\n",
    "                     --filter_val 0.0075 --max_dist 0.05 --num_gen_points 850000 --gamma 1 \\\n",
    "                     --aug_bri 1.5 --aug_con 0.5 --aug_sat 0.5 --aug_hue 0.5"
   ]
  },
  {
   "cell_type": "code",
   "execution_count": null,
   "id": "5645cce3-e02f-412a-9b72-0321d8c1966b",
   "metadata": {},
   "outputs": [],
   "source": []
  }
 ],
 "metadata": {
  "kernelspec": {
   "display_name": "Python [conda env:torch]",
   "language": "python",
   "name": "conda-env-torch-py"
  },
  "language_info": {
   "codemirror_mode": {
    "name": "ipython",
    "version": 3
   },
   "file_extension": ".py",
   "mimetype": "text/x-python",
   "name": "python",
   "nbconvert_exporter": "python",
   "pygments_lexer": "ipython3",
   "version": "3.10.14"
  }
 },
 "nbformat": 4,
 "nbformat_minor": 5
}
